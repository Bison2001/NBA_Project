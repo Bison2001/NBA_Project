{
 "cells": [
  {
   "cell_type": "markdown",
   "metadata": {},
   "source": [
    "### Introduction\n",
    "This file contains the thorough implementation of alternating renew reward process on the nba games' winning probability prediction. In this project, I collected data of the first 452 NBA regular season games. I will use these data to contruct a model to predict real time winning probability."
   ]
  },
  {
   "cell_type": "markdown",
   "metadata": {},
   "source": [
    "### Data collection\n",
    "All the data are from the ESPN play-by-play game statistics. I build a scraper to collect all the useful information"
   ]
  },
  {
   "cell_type": "code",
   "execution_count": 3,
   "metadata": {},
   "outputs": [],
   "source": [
    "import requests\n",
    "import numpy as np\n",
    "import pandas as pd\n",
    "import datetime\n",
    "from bs4 import BeautifulSoup\n",
    "import time\n",
    "from scipy.stats import gamma\n",
    "import scipy.stats as stats \n",
    "import matplotlib.pyplot as plt"
   ]
  },
  {
   "cell_type": "markdown",
   "metadata": {},
   "source": [
    "The following is the scraper used to scrap a single game's play-by-play data."
   ]
  },
  {
   "cell_type": "code",
   "execution_count": 2,
   "metadata": {},
   "outputs": [],
   "source": [
    "def scrap_pbp_by_espnid(id):\n",
    "    url = f\"https://www.espn.com/nba/playbyplay/_/gameId/{id}\"\n",
    "    s = requests.get(url).text\n",
    "    soup = BeautifulSoup(s)\n",
    "    lis = soup.find_all(\"li\", attrs = {\"class\":\"accordion-item\"})\n",
    "    all_quaters = pd.DataFrame()\n",
    "    for k in range(1, len(lis)):\n",
    "        table = lis[k].find(\"table\")\n",
    "        team_names = pd.Series([i.find(\"img\")[\"src\"] for i in table.find_all(\"td\", attrs = {\"class\":\"logo\"})])\n",
    "        team_names_ser = team_names.str.extract(\"\\/([a-z]+).png\")[0].str.upper()\n",
    "        game_details = pd.Series([i.text for i in table.find_all(\"td\", attrs = {\"class\":\"game-details\"})])\n",
    "        time_ser = pd.Series([i.text for i in table.find_all(\"td\", attrs = {\"class\":\"time-stamp\"})])\n",
    "        seconds = time_ser.str.split(\":\").apply(lambda x: int(x[0])*60+float(x[1]) if len(x) == 2 else float(x[0]))\n",
    "        if k >= 5:\n",
    "            game_time = 2880 + 300*(k-4) - seconds\n",
    "        else:\n",
    "            game_time = 720*k - seconds\n",
    "        home_scores = pd.Series([int(i.text.split(\"-\")[1]) for i in table.find_all(\"td\", attrs = {\"class\":\"combined-score\"})])\n",
    "        away_scores = pd.Series([int(i.text.split(\"-\")[0]) for i in table.find_all(\"td\", attrs = {\"class\":\"combined-score\"})])\n",
    "        cleaned_table = pd.DataFrame({\"Team\":team_names_ser, \"Game_details\":game_details, \"Time_left\":time_ser, \"Game_time\":game_time, \"Away_score\":away_scores, \"Home_score\":home_scores})\n",
    "        all_quaters = pd.concat([all_quaters, cleaned_table])\n",
    "    return all_quaters"
   ]
  },
  {
   "cell_type": "markdown",
   "metadata": {},
   "source": [
    "The function below is used to find the home team and away team given a game id."
   ]
  },
  {
   "cell_type": "code",
   "execution_count": 3,
   "metadata": {},
   "outputs": [],
   "source": [
    "def get_home_away(id):\n",
    "    url = f\"https://www.espn.com/nba/playbyplay/_/gameId/{id}\"\n",
    "    s = requests.get(url).text\n",
    "    soup = BeautifulSoup(s)\n",
    "    away_abbrev_name = soup.find_all(\"span\", attrs = {\"class\":\"abbrev\"})[0].text\n",
    "    home_abbrev_name = soup.find_all(\"span\", attrs = {\"class\":\"abbrev\"})[1].text\n",
    "    return away_abbrev_name, home_abbrev_name"
   ]
  },
  {
   "cell_type": "markdown",
   "metadata": {},
   "source": [
    "This function below is used to identify the \"end\" of a possession. There are four ways that a possession can end.\n",
    "1. The team makes a shot\n",
    "2. The team makes a turnover\n",
    "3. The team misses a shot and the other team gets the defensive rebound\n",
    "4. The quater ends"
   ]
  },
  {
   "cell_type": "code",
   "execution_count": 4,
   "metadata": {},
   "outputs": [],
   "source": [
    "def identify_pos(x):\n",
    "    tag = x.split(\"@\")[0]\n",
    "    details = x.split(\"@\")[1]\n",
    "    out = \"\"\n",
    "    if (\"defensive rebound\" in details) or (\"defensive team rebound\" in details):\n",
    "        out = tag + \"-\"\n",
    "    elif \"makes free throw 1 of 2\" in details:\n",
    "        out = \"null\"\n",
    "    elif \"makes free throw 1 of 3\" in details:\n",
    "        out = \"null\"\n",
    "    elif \"makes free throw 2 of 3\" in details:\n",
    "        out = \"null\"\n",
    "    elif \"traveling\" in details:\n",
    "        out = tag\n",
    "    elif \"turnover\" in details:\n",
    "        out = tag\n",
    "    elif \"makes\" in details:\n",
    "        out = tag\n",
    "    elif \"End\" in details:\n",
    "        out = \"End\"\n",
    "    elif \"bad pass\" in details:\n",
    "        out = tag\n",
    "    else:\n",
    "        out = \"null\"\n",
    "    return out"
   ]
  },
  {
   "cell_type": "markdown",
   "metadata": {},
   "source": [
    "The function below is used to transform the ESPN play-by-play data to possession data."
   ]
  },
  {
   "cell_type": "code",
   "execution_count": 5,
   "metadata": {},
   "outputs": [],
   "source": [
    "def raw_pos_data(id):\n",
    "    df_example = scrap_pbp_by_espnid(id)\n",
    "    away_team, home_team = get_home_away(id)\n",
    "    df_example1 = df_example.assign(util_col = df_example[\"Team\"] + \"@\" + df_example[\"Game_details\"])\n",
    "    df_example2 = df_example1.assign(pos = df_example1[\"util_col\"].apply(identify_pos))\n",
    "    df_example3 = df_example2.assign(pos1 = df_example2[\"pos\"].replace({(away_team+\"-\"):home_team,(home_team+\"-\"):away_team}))\n",
    "    df_example4 = df_example3.reset_index(drop = True)\n",
    "    to_change = list(df_example4[\"pos1\"])\n",
    "    to_change[0] = \"START\"\n",
    "    df_example4[\"pos2\"] = to_change\n",
    "    df_example5 = df_example4[[\"Game_details\", \"Game_time\", \"Away_score\", \"Home_score\", \"pos2\"]]\n",
    "    df_example6 = df_example5[df_example5[\"pos2\"] != \"null\"]\n",
    "    df_example7 = df_example6.drop_duplicates(subset=\"Game_time\", keep='last', inplace=False)\n",
    "    df_example7[\"sum_score\"] = df_example7[\"Away_score\"] + df_example7[\"Home_score\"]\n",
    "    time_diff = df_example7[\"Game_time\"].diff()\n",
    "    score_diff = df_example7[\"sum_score\"].diff()\n",
    "    pos_name = df_example7[\"pos2\"].iloc[1:]\n",
    "    df_example8 = pd.DataFrame({\"Team\":pos_name, \"Time\":time_diff, \"Score\":score_diff})\n",
    "    df_example9 = df_example8[(~pd.isnull(df_example8[\"Team\"])) & (df_example8[\"Team\"] != \"End\")]\n",
    "    df_example9[\"Team\"] = df_example9[\"Team\"].apply(lambda x: x+\"*\" if x == home_team else x)\n",
    "    return df_example9"
   ]
  },
  {
   "cell_type": "markdown",
   "metadata": {},
   "source": [
    "Only the team's possession data is not enough, We also need the team's opponent possession data in order to build a thorough model. The function below is to tranform the ESPN play-by-play data to opponent possession data."
   ]
  },
  {
   "cell_type": "code",
   "execution_count": 6,
   "metadata": {},
   "outputs": [],
   "source": [
    "def oppp(id):\n",
    "    df_example = scrap_pbp_by_espnid(id)\n",
    "    away_team, home_team = get_home_away(id)\n",
    "    df_example1 = df_example.assign(util_col = df_example[\"Team\"] + \"@\" + df_example[\"Game_details\"])\n",
    "    df_example2 = df_example1.assign(pos = df_example1[\"util_col\"].apply(identify_pos))\n",
    "    df_example3 = df_example2.assign(pos1 = df_example2[\"pos\"].replace({(away_team+\"-\"):home_team,(home_team+\"-\"):away_team}))\n",
    "    df_example4 = df_example3.reset_index(drop = True)\n",
    "    to_change = list(df_example4[\"pos1\"])\n",
    "    to_change[0] = \"START\"\n",
    "    df_example4[\"pos2\"] = to_change\n",
    "    df_example5 = df_example4[[\"Game_details\", \"Game_time\", \"Away_score\", \"Home_score\", \"pos2\"]]\n",
    "    df_example6 = df_example5[df_example5[\"pos2\"] != \"null\"]\n",
    "    df_example7 = df_example6.drop_duplicates(subset=\"Game_time\", keep='last', inplace=False)\n",
    "    df_example7[\"sum_score\"] = df_example7[\"Away_score\"] + df_example7[\"Home_score\"]\n",
    "    time_diff = df_example7[\"Game_time\"].diff()\n",
    "    score_diff = df_example7[\"sum_score\"].diff()\n",
    "    pos_name = df_example7[\"pos2\"].iloc[1:]\n",
    "    df_example8 = pd.DataFrame({\"Team\":pos_name, \"Time\":time_diff, \"Score\":score_diff})\n",
    "    df_example9 = df_example8[(~pd.isnull(df_example8[\"Team\"])) & (df_example8[\"Team\"] != \"End\")]\n",
    "    df_example9[\"Team\"] = df_example9[\"Team\"].apply(lambda x: x+\"*\" if x == home_team else x)\n",
    "    df_example9[\"Team\"] = df_example9[\"Team\"].replace({(home_team+\"*\"):(away_team+\"-\"),away_team:(home_team+\"*-\")})\n",
    "    return df_example9"
   ]
  },
  {
   "cell_type": "markdown",
   "metadata": {},
   "source": [
    "With functions above, One can easily get the possession data of a single game. However, in order to get the possession data of 452 games, we need to get all ESPN game ids. The function and code below is to scrap the first 452 ids."
   ]
  },
  {
   "cell_type": "code",
   "execution_count": 7,
   "metadata": {},
   "outputs": [],
   "source": [
    "def scrap_id_by_date(date):\n",
    "    date_in_url = date.split(\"-\")[0] + date.split(\"-\")[1] + date.split(\"-\")[2]\n",
    "    url = \"https://www.espn.com/nba/schedule/_/date/\" + date_in_url\n",
    "    r = requests.get(url)\n",
    "    s = r.text\n",
    "    soup = BeautifulSoup(s)\n",
    "    l1 = []\n",
    "    for i in soup.find_all(\"a\", attrs = {\"name\":\"&lpos=nba:schedule:score\"}):\n",
    "        if i.text != \"Postponed\":\n",
    "            l1.append(i[\"href\"].split(\"/\")[-1])\n",
    "    return l1"
   ]
  },
  {
   "cell_type": "code",
   "execution_count": null,
   "metadata": {},
   "outputs": [],
   "source": [
    "date = \"2020-12-22\"\n",
    "list1 = []\n",
    "while date <= \"2021-03-01\":\n",
    "    list1 = list1 + scrap_id_by_date(date)\n",
    "    d1 = pd.to_datetime(date)\n",
    "    date = str(d1 + datetime.timedelta(days=1)).split()[0]\n",
    "id_list = pd.Series(list1).unique()"
   ]
  },
  {
   "cell_type": "markdown",
   "metadata": {},
   "source": [
    "Then, by using the code below, we get all the data needed."
   ]
  },
  {
   "cell_type": "code",
   "execution_count": null,
   "metadata": {},
   "outputs": [],
   "source": [
    "df_list = []\n",
    "oppp_list = []"
   ]
  },
  {
   "cell_type": "code",
   "execution_count": null,
   "metadata": {},
   "outputs": [],
   "source": [
    "for id in id_list:\n",
    "    df = raw_pos_data(id)\n",
    "    df_list.append(df)\n",
    "    k = k + 1\n",
    "    print(k)\n",
    "    time.sleep(1)"
   ]
  },
  {
   "cell_type": "code",
   "execution_count": null,
   "metadata": {},
   "outputs": [],
   "source": [
    "total_df = pd.concat(df_list)"
   ]
  },
  {
   "cell_type": "code",
   "execution_count": null,
   "metadata": {},
   "outputs": [],
   "source": [
    "for id in id_list:\n",
    "    df = oppp(id)\n",
    "    oppp_list.append(df)\n",
    "    m = m + 1\n",
    "    print(m)\n",
    "    time.sleep(1)\n",
    "    if m >= 452:\n",
    "        break"
   ]
  },
  {
   "cell_type": "code",
   "execution_count": null,
   "metadata": {},
   "outputs": [],
   "source": [
    "oppp_df = pd.concat(oppp_list)"
   ]
  },
  {
   "cell_type": "markdown",
   "metadata": {},
   "source": [
    "The following is the summary statistics of data."
   ]
  },
  {
   "cell_type": "code",
   "execution_count": 2,
   "metadata": {},
   "outputs": [],
   "source": [
    "total_df = pd.read_pickle(\"ppp.pkl\")"
   ]
  },
  {
   "cell_type": "code",
   "execution_count": 3,
   "metadata": {},
   "outputs": [],
   "source": [
    "oppp_df = pd.read_pickle(\"oppp.pkl\")"
   ]
  },
  {
   "cell_type": "markdown",
   "metadata": {},
   "source": [
    "The following is the average performance of each team. The * means that the team is at home."
   ]
  },
  {
   "cell_type": "code",
   "execution_count": 12,
   "metadata": {},
   "outputs": [
    {
     "data": {
      "text/html": [
       "<div>\n",
       "<style scoped>\n",
       "    .dataframe tbody tr th:only-of-type {\n",
       "        vertical-align: middle;\n",
       "    }\n",
       "\n",
       "    .dataframe tbody tr th {\n",
       "        vertical-align: top;\n",
       "    }\n",
       "\n",
       "    .dataframe thead th {\n",
       "        text-align: right;\n",
       "    }\n",
       "</style>\n",
       "<table border=\"1\" class=\"dataframe\">\n",
       "  <thead>\n",
       "    <tr style=\"text-align: right;\">\n",
       "      <th></th>\n",
       "      <th>Time</th>\n",
       "      <th>Score</th>\n",
       "    </tr>\n",
       "    <tr>\n",
       "      <th>Team</th>\n",
       "      <th></th>\n",
       "      <th></th>\n",
       "    </tr>\n",
       "  </thead>\n",
       "  <tbody>\n",
       "    <tr>\n",
       "      <th>BKN</th>\n",
       "      <td>14.399435</td>\n",
       "      <td>1.234296</td>\n",
       "    </tr>\n",
       "    <tr>\n",
       "      <th>UTAH*</th>\n",
       "      <td>14.689182</td>\n",
       "      <td>1.218287</td>\n",
       "    </tr>\n",
       "    <tr>\n",
       "      <th>LAC</th>\n",
       "      <td>14.907428</td>\n",
       "      <td>1.217239</td>\n",
       "    </tr>\n",
       "    <tr>\n",
       "      <th>MIL</th>\n",
       "      <td>13.474135</td>\n",
       "      <td>1.202643</td>\n",
       "    </tr>\n",
       "    <tr>\n",
       "      <th>POR</th>\n",
       "      <td>15.151755</td>\n",
       "      <td>1.194639</td>\n",
       "    </tr>\n",
       "    <tr>\n",
       "      <th>...</th>\n",
       "      <td>...</td>\n",
       "      <td>...</td>\n",
       "    </tr>\n",
       "    <tr>\n",
       "      <th>WSH</th>\n",
       "      <td>13.669880</td>\n",
       "      <td>1.059043</td>\n",
       "    </tr>\n",
       "    <tr>\n",
       "      <th>OKC*</th>\n",
       "      <td>14.231721</td>\n",
       "      <td>1.059033</td>\n",
       "    </tr>\n",
       "    <tr>\n",
       "      <th>NY</th>\n",
       "      <td>15.291390</td>\n",
       "      <td>1.055351</td>\n",
       "    </tr>\n",
       "    <tr>\n",
       "      <th>HOU*</th>\n",
       "      <td>14.141576</td>\n",
       "      <td>1.053646</td>\n",
       "    </tr>\n",
       "    <tr>\n",
       "      <th>CLE</th>\n",
       "      <td>15.282457</td>\n",
       "      <td>1.025939</td>\n",
       "    </tr>\n",
       "  </tbody>\n",
       "</table>\n",
       "<p>60 rows × 2 columns</p>\n",
       "</div>"
      ],
      "text/plain": [
       "            Time     Score\n",
       "Team                      \n",
       "BKN    14.399435  1.234296\n",
       "UTAH*  14.689182  1.218287\n",
       "LAC    14.907428  1.217239\n",
       "MIL    13.474135  1.202643\n",
       "POR    15.151755  1.194639\n",
       "...          ...       ...\n",
       "WSH    13.669880  1.059043\n",
       "OKC*   14.231721  1.059033\n",
       "NY     15.291390  1.055351\n",
       "HOU*   14.141576  1.053646\n",
       "CLE    15.282457  1.025939\n",
       "\n",
       "[60 rows x 2 columns]"
      ]
     },
     "execution_count": 12,
     "metadata": {},
     "output_type": "execute_result"
    }
   ],
   "source": [
    "total_df.groupby(\"Team\").mean().sort_values(by = \"Score\", ascending  = False)"
   ]
  },
  {
   "cell_type": "markdown",
   "metadata": {},
   "source": [
    "The data above shows that the BKN at away has the best offensive performance who scores 1.234 points on each possession on average. The CLE at away has the worst offensive performance who scores 1.026 points on each possession on average."
   ]
  },
  {
   "cell_type": "code",
   "execution_count": 14,
   "metadata": {},
   "outputs": [
    {
     "data": {
      "text/html": [
       "<div>\n",
       "<style scoped>\n",
       "    .dataframe tbody tr th:only-of-type {\n",
       "        vertical-align: middle;\n",
       "    }\n",
       "\n",
       "    .dataframe tbody tr th {\n",
       "        vertical-align: top;\n",
       "    }\n",
       "\n",
       "    .dataframe thead th {\n",
       "        text-align: right;\n",
       "    }\n",
       "</style>\n",
       "<table border=\"1\" class=\"dataframe\">\n",
       "  <thead>\n",
       "    <tr style=\"text-align: right;\">\n",
       "      <th></th>\n",
       "      <th>Time</th>\n",
       "      <th>Score</th>\n",
       "    </tr>\n",
       "    <tr>\n",
       "      <th>Team</th>\n",
       "      <th></th>\n",
       "      <th></th>\n",
       "    </tr>\n",
       "  </thead>\n",
       "  <tbody>\n",
       "    <tr>\n",
       "      <th>LAL-</th>\n",
       "      <td>14.765996</td>\n",
       "      <td>1.053212</td>\n",
       "    </tr>\n",
       "    <tr>\n",
       "      <th>MIL*-</th>\n",
       "      <td>14.887276</td>\n",
       "      <td>1.075547</td>\n",
       "    </tr>\n",
       "    <tr>\n",
       "      <th>UTAH*-</th>\n",
       "      <td>14.427573</td>\n",
       "      <td>1.075604</td>\n",
       "    </tr>\n",
       "    <tr>\n",
       "      <th>NY-</th>\n",
       "      <td>14.497111</td>\n",
       "      <td>1.076214</td>\n",
       "    </tr>\n",
       "    <tr>\n",
       "      <th>GS*-</th>\n",
       "      <td>14.828986</td>\n",
       "      <td>1.079420</td>\n",
       "    </tr>\n",
       "    <tr>\n",
       "      <th>...</th>\n",
       "      <td>...</td>\n",
       "      <td>...</td>\n",
       "    </tr>\n",
       "    <tr>\n",
       "      <th>POR-</th>\n",
       "      <td>13.914449</td>\n",
       "      <td>1.182686</td>\n",
       "    </tr>\n",
       "    <tr>\n",
       "      <th>WSH*-</th>\n",
       "      <td>14.304213</td>\n",
       "      <td>1.185083</td>\n",
       "    </tr>\n",
       "    <tr>\n",
       "      <th>NO-</th>\n",
       "      <td>14.904063</td>\n",
       "      <td>1.192149</td>\n",
       "    </tr>\n",
       "    <tr>\n",
       "      <th>BKN-</th>\n",
       "      <td>14.840952</td>\n",
       "      <td>1.198497</td>\n",
       "    </tr>\n",
       "    <tr>\n",
       "      <th>SAC*-</th>\n",
       "      <td>15.016329</td>\n",
       "      <td>1.224662</td>\n",
       "    </tr>\n",
       "  </tbody>\n",
       "</table>\n",
       "<p>60 rows × 2 columns</p>\n",
       "</div>"
      ],
      "text/plain": [
       "             Time     Score\n",
       "Team                       \n",
       "LAL-    14.765996  1.053212\n",
       "MIL*-   14.887276  1.075547\n",
       "UTAH*-  14.427573  1.075604\n",
       "NY-     14.497111  1.076214\n",
       "GS*-    14.828986  1.079420\n",
       "...           ...       ...\n",
       "POR-    13.914449  1.182686\n",
       "WSH*-   14.304213  1.185083\n",
       "NO-     14.904063  1.192149\n",
       "BKN-    14.840952  1.198497\n",
       "SAC*-   15.016329  1.224662\n",
       "\n",
       "[60 rows x 2 columns]"
      ]
     },
     "execution_count": 14,
     "metadata": {},
     "output_type": "execute_result"
    }
   ],
   "source": [
    "oppp_df.groupby(\"Team\").mean().sort_values(by = \"Score\")"
   ]
  },
  {
   "cell_type": "markdown",
   "metadata": {},
   "source": [
    "The data above shows that the LAL at home has the best defensive performance who let their opponents scores 1.053 points on each possession on average. The SAC at home has the worst defensive performance who let their opponents scores 1.225 points on each possession on average."
   ]
  },
  {
   "cell_type": "markdown",
   "metadata": {},
   "source": [
    "### Fit distribution"
   ]
  },
  {
   "cell_type": "markdown",
   "metadata": {},
   "source": [
    "We will use categorical random variable to fit the reward distribution. Let's take GS at home vs. BKN for example."
   ]
  },
  {
   "cell_type": "code",
   "execution_count": 15,
   "metadata": {},
   "outputs": [],
   "source": [
    "gs_ppp_df = total_df[total_df[\"Team\"] == \"GS*\"]\n",
    "gs_ppp_dist = gs_ppp_df[\"Score\"][gs_ppp_df[\"Score\"] >= 0].value_counts(normalize = True)\n",
    "gs_oppp_df = oppp_df[oppp_df[\"Team\"] == \"GS*-\"]\n",
    "gs_oppp_dist = gs_oppp_df[\"Score\"][gs_oppp_df[\"Score\"] >= 0].value_counts(normalize = True)\n",
    "bkn_ppp_df = total_df[total_df[\"Team\"] == \"BKN\"]\n",
    "bkn_ppp_dist = bkn_ppp_df[\"Score\"].value_counts(normalize = True)\n",
    "bkn_oppp_df = oppp_df[oppp_df[\"Team\"] == \"BKN-\"]\n",
    "bkn_oppp_dist = bkn_oppp_df[\"Score\"].value_counts(normalize = True)"
   ]
  },
  {
   "cell_type": "code",
   "execution_count": 37,
   "metadata": {},
   "outputs": [],
   "source": [
    "gs_ppp_df = total_df[total_df[\"Team\"] == \"GS*\"]\n",
    "gs_ppp_dist = gs_ppp_df[(gs_ppp_df[\"Score\"] >= 0) & (gs_ppp_df[\"Time\"] <= 3) & (gs_ppp_df[\"Time\"] >= 0)][\"Score\"].value_counts(normalize = True)"
   ]
  },
  {
   "cell_type": "code",
   "execution_count": 38,
   "metadata": {},
   "outputs": [
    {
     "data": {
      "text/plain": [
       "0.0    0.438356\n",
       "2.0    0.424658\n",
       "3.0    0.109589\n",
       "1.0    0.027397\n",
       "Name: Score, dtype: float64"
      ]
     },
     "execution_count": 38,
     "metadata": {},
     "output_type": "execute_result"
    }
   ],
   "source": [
    "gs_ppp_dist"
   ]
  },
  {
   "cell_type": "code",
   "execution_count": 39,
   "metadata": {},
   "outputs": [],
   "source": []
  },
  {
   "cell_type": "markdown",
   "metadata": {},
   "source": [
    "For example, the following is GS's point per possession distribution. There is 49.6% chance that GS will score 0 in this possession, 30.1% chance that GS will score 2 in this possession..."
   ]
  },
  {
   "cell_type": "code",
   "execution_count": 16,
   "metadata": {},
   "outputs": [
    {
     "data": {
      "text/plain": [
       "0.0    0.496210\n",
       "2.0    0.301458\n",
       "3.0    0.168513\n",
       "1.0    0.031487\n",
       "4.0    0.002332\n",
       "Name: Score, dtype: float64"
      ]
     },
     "execution_count": 16,
     "metadata": {},
     "output_type": "execute_result"
    }
   ],
   "source": [
    "gs_ppp_dist"
   ]
  },
  {
   "cell_type": "markdown",
   "metadata": {},
   "source": [
    "Then, we will use gamma distribution to fit the possession time. We will do so by using MLE in the scipy.stat"
   ]
  },
  {
   "cell_type": "code",
   "execution_count": 41,
   "metadata": {},
   "outputs": [],
   "source": [
    "gs_time = total_df[total_df[\"Team\"].str.contains(\"GS\")][\"Time\"]\n",
    "bkn_time = total_df[total_df[\"Team\"].str.contains(\"BKN\")][\"Time\"]\n",
    "x = np.linspace (0, 100, 200) "
   ]
  },
  {
   "cell_type": "code",
   "execution_count": 21,
   "metadata": {},
   "outputs": [
    {
     "data": {
      "text/plain": [
       "(13.699071550059521, -10.203967603863399, 1.7202520490106659)"
      ]
     },
     "execution_count": 21,
     "metadata": {},
     "output_type": "execute_result"
    }
   ],
   "source": [
    "gamma.fit(gs_time)"
   ]
  },
  {
   "cell_type": "code",
   "execution_count": 22,
   "metadata": {},
   "outputs": [],
   "source": [
    "y_gs = stats.gamma.pdf(x, 13.699071550059521, -10.203967603863399, 1.7202520490106659)"
   ]
  },
  {
   "cell_type": "code",
   "execution_count": 23,
   "metadata": {},
   "outputs": [
    {
     "data": {
      "text/plain": [
       "(11.381114074215343, -9.342837168485165, 2.0571110740878114)"
      ]
     },
     "execution_count": 23,
     "metadata": {},
     "output_type": "execute_result"
    }
   ],
   "source": [
    "gamma.fit(bkn_time)"
   ]
  },
  {
   "cell_type": "code",
   "execution_count": 24,
   "metadata": {},
   "outputs": [],
   "source": [
    "y_bkn = stats.gamma.pdf(x, 11.381114074215343, -9.342837168485165, 2.0571110740878114)"
   ]
  },
  {
   "cell_type": "markdown",
   "metadata": {},
   "source": [
    "Here is the fit of GS."
   ]
  },
  {
   "cell_type": "code",
   "execution_count": 25,
   "metadata": {},
   "outputs": [
    {
     "data": {
      "text/plain": [
       "<matplotlib.legend.Legend at 0x22f6798d3c8>"
      ]
     },
     "execution_count": 25,
     "metadata": {},
     "output_type": "execute_result"
    },
    {
     "data": {
      "image/png": "[encoded data removed]",
      "text/plain": [
       "<Figure size 432x288 with 1 Axes>"
      ]
     },
     "metadata": {
      "needs_background": "light"
     },
     "output_type": "display_data"
    }
   ],
   "source": [
    "plt.hist(gs_time, bins = 20, density = True,label='GS_TIME', alpha=0.3)\n",
    "plt.plot(x, y_gs,label='gamma')\n",
    "plt.legend()"
   ]
  },
  {
   "cell_type": "markdown",
   "metadata": {},
   "source": [
    "Here is the fit of BKN."
   ]
  },
  {
   "cell_type": "code",
   "execution_count": 26,
   "metadata": {},
   "outputs": [
    {
     "data": {
      "text/plain": [
       "<matplotlib.legend.Legend at 0x22f67a784a8>"
      ]
     },
     "execution_count": 26,
     "metadata": {},
     "output_type": "execute_result"
    },
    {
     "data": {
      "image/png": "[encoded data removed]",
      "text/plain": [
       "<Figure size 432x288 with 1 Axes>"
      ]
     },
     "metadata": {
      "needs_background": "light"
     },
     "output_type": "display_data"
    }
   ],
   "source": [
    "plt.hist(bkn_time, bins = 20, density = True,label='BNK_TIME', alpha=0.3)\n",
    "plt.plot(x, y_bkn,label='gamma')\n",
    "plt.legend()"
   ]
  },
  {
   "cell_type": "markdown",
   "metadata": {},
   "source": [
    "### Run the simmulation"
   ]
  },
  {
   "cell_type": "markdown",
   "metadata": {},
   "source": [
    "We will run the simulation of the game below."
   ]
  },
  {
   "cell_type": "code",
   "execution_count": 27,
   "metadata": {},
   "outputs": [],
   "source": [
    "gs_score_list = []\n",
    "bkn_score_list = []"
   ]
  },
  {
   "cell_type": "code",
   "execution_count": 28,
   "metadata": {},
   "outputs": [],
   "source": [
    "for i in range(1000):\n",
    "    gs_score = 0\n",
    "    bkn_score = 0\n",
    "    game_time = 0\n",
    "    while game_time < 2880:\n",
    "        game_time = game_time + gamma.rvs(11.381114074215343, -9.342837168485165, 2.0571110740878114)\n",
    "        bkn_score_diff = (np.random.choice(bkn_ppp_dist.index, p = bkn_ppp_dist.values) + np.random.choice(gs_oppp_dist.index, p = gs_oppp_dist.values))/2\n",
    "        bkn_score = bkn_score + bkn_score_diff\n",
    "        game_time = game_time + gamma.rvs(13.699071550059521, -10.203967603863399, 1.7202520490106659)\n",
    "        gs_score_diff = (np.random.choice(gs_ppp_dist.index, p = gs_ppp_dist.values) + np.random.choice(bkn_oppp_dist.index, p = bkn_oppp_dist.values))/2\n",
    "        gs_score = gs_score + gs_score_diff\n",
    "    \n",
    "    gs_score_list.append(gs_score)\n",
    "    bkn_score_list.append(bkn_score)"
   ]
  },
  {
   "cell_type": "code",
   "execution_count": 29,
   "metadata": {},
   "outputs": [],
   "source": [
    "score_diff_list = np.array(bkn_score_list) - np.array(gs_score_list)"
   ]
  },
  {
   "cell_type": "code",
   "execution_count": 30,
   "metadata": {},
   "outputs": [
    {
     "data": {
      "text/plain": [
       "<matplotlib.axes._subplots.AxesSubplot at 0x22f67aedf60>"
      ]
     },
     "execution_count": 30,
     "metadata": {},
     "output_type": "execute_result"
    },
    {
     "data": {
      "image/png": "[encoded data removed]",
      "text/plain": [
       "<Figure size 432x288 with 1 Axes>"
      ]
     },
     "metadata": {
      "needs_background": "light"
     },
     "output_type": "display_data"
    }
   ],
   "source": [
    "pd.Series(score_diff_list).plot(kind = \"hist\")"
   ]
  },
  {
   "cell_type": "code",
   "execution_count": 31,
   "metadata": {},
   "outputs": [
    {
     "data": {
      "text/plain": [
       "0.479"
      ]
     },
     "execution_count": 31,
     "metadata": {},
     "output_type": "execute_result"
    }
   ],
   "source": [
    "np.count_nonzero(score_diff_list >= 0)/len(score_diff_list)"
   ]
  },
  {
   "cell_type": "markdown",
   "metadata": {},
   "source": [
    "It turns out that BKN has 47.9% chance of winning the game."
   ]
  },
  {
   "cell_type": "markdown",
   "metadata": {},
   "source": [
    "This is just a draft version. More will be done in the future time."
   ]
  },
  {
   "cell_type": "code",
   "execution_count": 8,
   "metadata": {},
   "outputs": [],
   "source": [
    "def calc_dist(away, home, ppp, oppp):\n",
    "    h_ppp_df = ppp[ppp[\"Team\"] == (home+\"*\")]\n",
    "    h_oppp_df = oppp[oppp[\"Team\"] == (home+\"*-\")]\n",
    "    a_ppp_df = ppp[ppp[\"Team\"] == away]\n",
    "    a_oppp_df = oppp[oppp[\"Team\"] == (away+\"-\")]\n",
    "    \n",
    "    h_ppp_dist_2 = h_ppp_df[(h_ppp_df[\"Time\"] <= 2) & (h_ppp_df[\"Score\"] >= 0)][\"Score\"].value_counts(normalize = True)\n",
    "    h_ppp_dist_8 = h_ppp_df[(h_ppp_df[\"Time\"] > 2) & (h_ppp_df[\"Time\"] <= 8) & (h_ppp_df[\"Score\"] >= 0)][\"Score\"].value_counts(normalize = True)\n",
    "    h_ppp_dist_50 = h_ppp_df[(h_ppp_df[\"Time\"] > 8) & (h_ppp_df[\"Score\"] >= 0)][\"Score\"].value_counts(normalize = True)\n",
    "    \n",
    "    h_oppp_dist_2 = h_oppp_df[(h_oppp_df[\"Time\"] <= 2) & (h_oppp_df[\"Score\"] >= 0)][\"Score\"].value_counts(normalize = True)\n",
    "    h_oppp_dist_8 = h_oppp_df[(h_oppp_df[\"Time\"] > 2) & (h_oppp_df[\"Time\"] <= 8) & (h_oppp_df[\"Score\"] >= 0)][\"Score\"].value_counts(normalize = True)\n",
    "    h_oppp_dist_50 = h_oppp_df[(h_oppp_df[\"Time\"] > 8) & (h_oppp_df[\"Score\"] >= 0)][\"Score\"].value_counts(normalize = True)\n",
    "    \n",
    "    a_ppp_dist_2 = a_ppp_df[(a_ppp_df[\"Time\"] <= 2) & (a_ppp_df[\"Score\"] >= 0)][\"Score\"].value_counts(normalize = True)\n",
    "    a_ppp_dist_8 = a_ppp_df[(a_ppp_df[\"Time\"] > 2) & (a_ppp_df[\"Time\"] <= 8) & (a_ppp_df[\"Score\"] >= 0)][\"Score\"].value_counts(normalize = True)\n",
    "    a_ppp_dist_50 = a_ppp_df[(a_ppp_df[\"Time\"] > 8) & (a_ppp_df[\"Score\"] >= 0)][\"Score\"].value_counts(normalize = True)\n",
    "    \n",
    "    a_oppp_dist_2 = a_oppp_df[(a_oppp_df[\"Time\"] <= 2) & (a_oppp_df[\"Score\"] >= 0)][\"Score\"].value_counts(normalize = True)\n",
    "    a_oppp_dist_8 = a_oppp_df[(a_oppp_df[\"Time\"] > 2) & (a_oppp_df[\"Time\"] <= 8) & (a_oppp_df[\"Score\"] >= 0)][\"Score\"].value_counts(normalize = True)\n",
    "    a_oppp_dist_50 = a_oppp_df[(a_oppp_df[\"Time\"] > 8) & (a_oppp_df[\"Score\"] >= 0)][\"Score\"].value_counts(normalize = True)\n",
    "    \n",
    "    return h_ppp_dist_2,h_ppp_dist_8,h_ppp_dist_50,h_oppp_dist_2,h_oppp_dist_8,h_oppp_dist_50,a_ppp_dist_2,a_ppp_dist_8,a_ppp_dist_50,a_oppp_dist_2,a_oppp_dist_8,a_oppp_dist_50"
   ]
  },
  {
   "cell_type": "code",
   "execution_count": 9,
   "metadata": {},
   "outputs": [],
   "source": [
    "def simu(away, home, ppp, oppp, n):\n",
    "    h_time = ppp[ppp[\"Team\"].str.contains(home)][\"Time\"]\n",
    "    a_time = ppp[ppp[\"Team\"].str.contains(away)][\"Time\"]\n",
    "    h_para = gamma.fit(h_time)\n",
    "    a_para = gamma.fit(a_time)\n",
    "    h_score_list = []\n",
    "    a_score_list = []\n",
    "    d_list = calc_dist(away, home, ppp, oppp)\n",
    "    \n",
    "    for i in range(n):\n",
    "        h_score = 0\n",
    "        a_score = 0\n",
    "        game_time = 0\n",
    "        while game_time < 2880:\n",
    "            h_time = gamma.rvs(h_para[0], h_para[1], h_para[2])\n",
    "            game_time = game_time + h_time\n",
    "            h_score_diff = 0\n",
    "            if h_time <= 2:\n",
    "                h_score_diff = (np.random.choice(d_list[0].index, p = d_list[0].values) + np.random.choice(d_list[9].index, p = d_list[9].values))/2\n",
    "            elif h_time > 2 and h_time <= 8:\n",
    "                h_score_diff = (np.random.choice(d_list[1].index, p = d_list[1].values) + np.random.choice(d_list[10].index, p = d_list[10].values))/2\n",
    "            else:\n",
    "                h_score_diff = (np.random.choice(d_list[2].index, p = d_list[2].values) + np.random.choice(d_list[11].index, p = d_list[11].values))/2\n",
    "            \n",
    "            h_score = h_score + h_score_diff\n",
    "            \n",
    "            a_time = gamma.rvs(a_para[0], a_para[1], a_para[2])\n",
    "            game_time = game_time + a_time\n",
    "            a_score_diff = 0\n",
    "            if a_time <= 2:\n",
    "                a_score_diff = (np.random.choice(d_list[6].index, p = d_list[6].values) + np.random.choice(d_list[3].index, p = d_list[3].values))/2\n",
    "            elif a_time > 2 and a_time <= 8:\n",
    "                a_score_diff = (np.random.choice(d_list[7].index, p = d_list[7].values) + np.random.choice(d_list[4].index, p = d_list[4].values))/2\n",
    "            else:\n",
    "                a_score_diff = (np.random.choice(d_list[8].index, p = d_list[8].values) + np.random.choice(d_list[5].index, p = d_list[5].values))/2\n",
    "            \n",
    "            a_score = a_score + a_score_diff\n",
    "\n",
    "        h_score_list.append(h_score)\n",
    "        a_score_list.append(a_score)\n",
    "    \n",
    "    return h_score_list, a_score_list"
   ]
  },
  {
   "cell_type": "code",
   "execution_count": 10,
   "metadata": {},
   "outputs": [],
   "source": [
    "def calc_dist_simple_homedefense(away, home, ppp, oppp):\n",
    "    h_ppp_df = ppp[ppp[\"Team\"] == (home+\"*\")]\n",
    "    h_oppp_df = oppp[oppp[\"Team\"] == (home+\"*-\")]\n",
    "    a_ppp_df = ppp[ppp[\"Team\"] == away]\n",
    "    a_oppp_df = oppp[oppp[\"Team\"] == (away+\"-\")]\n",
    "    \n",
    "    h_ppp_dist = h_ppp_df[h_ppp_df[\"Score\"] >= 0][\"Score\"].value_counts(normalize = True)\n",
    "    \n",
    "    h_oppp_dist = h_oppp_df[h_oppp_df[\"Score\"] >= 0][\"Score\"].value_counts(normalize = True)\n",
    "    \n",
    "    a_ppp_dist = a_ppp_df[a_ppp_df[\"Score\"] >= 0][\"Score\"].value_counts(normalize = True)\n",
    "    \n",
    "    a_oppp_dist = a_oppp_df[a_oppp_df[\"Score\"] >= 0][\"Score\"].value_counts(normalize = True)\n",
    "    \n",
    "    return h_ppp_dist,h_oppp_dist,a_ppp_dist,a_oppp_dist"
   ]
  },
  {
   "cell_type": "code",
   "execution_count": 11,
   "metadata": {},
   "outputs": [],
   "source": [
    "def simu_simple_homedefense(away, home, ppp, oppp, n):\n",
    "    h_time = ppp[ppp[\"Team\"].str.contains(home)][\"Time\"]\n",
    "    a_time = ppp[ppp[\"Team\"].str.contains(away)][\"Time\"]\n",
    "    h_para = gamma.fit(h_time)\n",
    "    a_para = gamma.fit(a_time)\n",
    "    h_score_list = []\n",
    "    a_score_list = []\n",
    "    d_list = calc_dist_simple_homedefense(away, home, ppp, oppp)\n",
    "    \n",
    "    for i in range(n):\n",
    "        h_score = 0\n",
    "        a_score = 0\n",
    "        game_time = 0\n",
    "        while game_time < 2880:\n",
    "            h_time = gamma.rvs(h_para[0], h_para[1], h_para[2])\n",
    "            game_time = game_time + h_time\n",
    "            h_score_diff = (np.random.choice(d_list[0].index, p = d_list[0].values) + np.random.choice(d_list[3].index, p = d_list[3].values))/2\n",
    "            h_score = h_score + h_score_diff\n",
    "            \n",
    "            a_time = gamma.rvs(a_para[0], a_para[1], a_para[2])\n",
    "            game_time = game_time + a_time\n",
    "            a_score_diff = (np.random.choice(d_list[2].index, p = d_list[2].values) + np.random.choice(d_list[1].index, p = d_list[1].values))/2\n",
    "            a_score = a_score + a_score_diff\n",
    "\n",
    "        h_score_list.append(h_score)\n",
    "        a_score_list.append(a_score)\n",
    "    \n",
    "    return h_score_list, a_score_list"
   ]
  },
  {
   "cell_type": "code",
   "execution_count": 12,
   "metadata": {},
   "outputs": [],
   "source": [
    "def calc_dist_simple_no_homedefense(away, home, ppp, oppp):\n",
    "    h_ppp_df = ppp[ppp[\"Team\"] == (home+\"*\")]\n",
    "    h_oppp_df = oppp[oppp[\"Team\"].str.contains(home)]\n",
    "    a_ppp_df = ppp[ppp[\"Team\"] == away]\n",
    "    a_oppp_df = oppp[oppp[\"Team\"].str.contains(away)]\n",
    "    \n",
    "    h_ppp_dist = h_ppp_df[h_ppp_df[\"Score\"] >= 0][\"Score\"].value_counts(normalize = True)\n",
    "    \n",
    "    h_oppp_dist = h_oppp_df[h_oppp_df[\"Score\"] >= 0][\"Score\"].value_counts(normalize = True)\n",
    "    \n",
    "    a_ppp_dist = a_ppp_df[a_ppp_df[\"Score\"] >= 0][\"Score\"].value_counts(normalize = True)\n",
    "    \n",
    "    a_oppp_dist = a_oppp_df[a_oppp_df[\"Score\"] >= 0][\"Score\"].value_counts(normalize = True)\n",
    "    \n",
    "    return h_ppp_dist,h_oppp_dist,a_ppp_dist,a_oppp_dist"
   ]
  },
  {
   "cell_type": "code",
   "execution_count": 13,
   "metadata": {},
   "outputs": [],
   "source": [
    "def simu_simple_no_homedefense(away, home, ppp, oppp, n):\n",
    "    h_time = ppp[ppp[\"Team\"].str.contains(home)][\"Time\"]\n",
    "    a_time = ppp[ppp[\"Team\"].str.contains(away)][\"Time\"]\n",
    "    h_para = gamma.fit(h_time)\n",
    "    a_para = gamma.fit(a_time)\n",
    "    h_score_list = []\n",
    "    a_score_list = []\n",
    "    d_list = calc_dist_simple_no_homedefense(away, home, ppp, oppp)\n",
    "    \n",
    "    for i in range(n):\n",
    "        h_score = 0\n",
    "        a_score = 0\n",
    "        game_time = 0\n",
    "        while game_time < 2880:\n",
    "            h_time = gamma.rvs(h_para[0], h_para[1], h_para[2])\n",
    "            game_time = game_time + h_time\n",
    "            h_score_diff = (np.random.choice(d_list[0].index, p = d_list[0].values) + np.random.choice(d_list[3].index, p = d_list[3].values))/2\n",
    "            h_score = h_score + h_score_diff\n",
    "            \n",
    "            a_time = gamma.rvs(a_para[0], a_para[1], a_para[2])\n",
    "            game_time = game_time + a_time\n",
    "            a_score_diff = (np.random.choice(d_list[2].index, p = d_list[2].values) + np.random.choice(d_list[1].index, p = d_list[1].values))/2\n",
    "            a_score = a_score + a_score_diff\n",
    "\n",
    "        h_score_list.append(h_score)\n",
    "        a_score_list.append(a_score)\n",
    "    \n",
    "    return h_score_list, a_score_list"
   ]
  },
  {
   "cell_type": "code",
   "execution_count": 63,
   "metadata": {},
   "outputs": [],
   "source": [
    "h_ls, a_ls = simu_simple_homedefense(\"ATL\", \"NY\", ppp_full, oppp_full, 2000)"
   ]
  },
  {
   "cell_type": "code",
   "execution_count": 66,
   "metadata": {},
   "outputs": [],
   "source": [
    "h_ls, a_ls = simu(\"ATL\", \"NY\", ppp_full, oppp_full, 2000)"
   ]
  },
  {
   "cell_type": "code",
   "execution_count": 69,
   "metadata": {},
   "outputs": [],
   "source": [
    "h_ls, a_ls = simu_simple_no_homedefense(\"ATL\", \"NY\", ppp_full, oppp_full, 2000)"
   ]
  },
  {
   "cell_type": "code",
   "execution_count": 70,
   "metadata": {},
   "outputs": [],
   "source": [
    "score_diff_list = np.array(h_ls) - np.array(a_ls)"
   ]
  },
  {
   "cell_type": "code",
   "execution_count": 76,
   "metadata": {},
   "outputs": [
    {
     "data": {
      "text/plain": [
       "0.5095"
      ]
     },
     "execution_count": 76,
     "metadata": {},
     "output_type": "execute_result"
    }
   ],
   "source": [
    "np.count_nonzero(score_diff_list >= 1)/len(score_diff_list)"
   ]
  }
 ],
 "metadata": {
  "kernelspec": {
   "display_name": "Python 3",
   "language": "python",
   "name": "python3"
  },
  "language_info": {
   "codemirror_mode": {
    "name": "ipython",
    "version": 3
   },
   "file_extension": ".py",
   "mimetype": "text/x-python",
   "name": "python",
   "nbconvert_exporter": "python",
   "pygments_lexer": "ipython3",
   "version": "3.7.3"
  }
 },
 "nbformat": 4,
 "nbformat_minor": 4
}
